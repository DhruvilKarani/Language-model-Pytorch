{
 "cells": [
  {
   "cell_type": "code",
   "execution_count": 2,
   "metadata": {},
   "outputs": [],
   "source": [
    "import numpy as np\n",
    "import pandas as pd\n",
    "import matplotlib.pyplot as plt\n",
    "import os\n",
    "import seaborn as sns\n",
    "import nltk\n",
    "from nltk.corpus import stopwords\n",
    "from nltk.stem import WordNetLemmatizer\n",
    "import string\n",
    "from nltk import word_tokenize\n",
    "import torch\n",
    "import torch.nn as nn\n",
    "import torch.nn.functional as F\n",
    "import torch.optim as optim\n",
    "from torch.autograd import Variable\n",
    "stopwords_list = stopwords.words('english')"
   ]
  },
  {
   "cell_type": "code",
   "execution_count": 3,
   "metadata": {},
   "outputs": [],
   "source": [
    "df = pd.read_csv('C:/Users/Dhruvil/Desktop/Data_Sets/Language_Modelling/all-the-news/articles1.csv')"
   ]
  },
  {
   "cell_type": "code",
   "execution_count": 4,
   "metadata": {},
   "outputs": [],
   "source": [
    "df = df.loc[:4,:] #picking up first 4 aricles\n",
    "\n",
    "title_list = list(df['title']) #separating title and contents of the article\n",
    "article_list = list(df['content'])\n",
    "\n",
    "train = ''\n",
    "test = ''\n",
    "\n",
    "for article in article_list[:4]:\n",
    "    train = article + ' ' + train\n",
    "for article in article_list[2:]:\n",
    "    test = article + ' ' + test\n",
    "\n",
    "train = train.translate(str.maketrans('','',string.punctuation)) #removing punctuation\n",
    "train = train.replace('-',' ')\n",
    "tokens = word_tokenize(train.lower()) #lowercasing\n",
    "# tokens = [token for token in tokens if token not in stopwords.words('english')]"
   ]
  },
  {
   "cell_type": "code",
   "execution_count": 8,
   "metadata": {},
   "outputs": [],
   "source": [
    "#assigning unique indices to words to feed the neural network\n",
    "word2index = {}\n",
    "for word in tokens:\n",
    "    if word not in word2index:\n",
    "        word2index[word] = len(word2index)"
   ]
  },
  {
   "cell_type": "code",
   "execution_count": null,
   "metadata": {},
   "outputs": [],
   "source": []
  },
  {
   "cell_type": "code",
   "execution_count": 9,
   "metadata": {},
   "outputs": [],
   "source": [
    "# creating a reverse dictionary to convert the output of neural networks to words\n",
    "\n",
    "index2word = {}\n",
    "for key,value in word2index.items():\n",
    "    index2word[value] = key"
   ]
  },
  {
   "cell_type": "code",
   "execution_count": 10,
   "metadata": {},
   "outputs": [],
   "source": [
    "INPUT_LENGTH = 20\n",
    "PREDICTED_LENGTH = 1\n",
    "TOTAL_LENGTH = INPUT_LENGTH + PREDICTED_LENGTH\n",
    "\n",
    "train_tokens = []\n",
    "label_tokens = []\n",
    "\n",
    "\n",
    "# create input of length 20 and labels of length 20. Label for an input word is the next word\n",
    "for i in range(TOTAL_LENGTH, len(tokens)-1):\n",
    "    train_tokens.append(tokens[i-TOTAL_LENGTH : i-PREDICTED_LENGTH])\n",
    "    label_tokens.append(tokens[i-TOTAL_LENGTH+1 : i-PREDICTED_LENGTH+1])\n",
    "    \n",
    "tokens_indexed = []\n",
    "labels_indexed = []\n",
    "\n",
    "#converting string tokens (words) into indices\n",
    "for tokenized_sentence, tokenized_label in zip(train_tokens, label_tokens):\n",
    "    tokens_indexed.append([word2index[token] for token in tokenized_sentence])\n",
    "    labels_indexed.append([word2index[token] for token in tokenized_label])\n",
    "\n",
    "# converting indices in string form to pytorch tensors\n",
    "tokens_indexed = torch.LongTensor(tokens_indexed)\n",
    "labels_indexed = torch.LongTensor(labels_indexed)"
   ]
  },
  {
   "cell_type": "code",
   "execution_count": 11,
   "metadata": {},
   "outputs": [],
   "source": [
    "EMBEDDING_DIM = 100\n",
    "HIDDEN_DIM = 1024\n",
    "LAYER_DIM = 2\n",
    "SEQ_LENGTH = 30\n",
    "BATCH_SIZE = 30\n",
    "NUM_EPOCHS = 5\n",
    "LEARNING_RATE = 0.02\n",
    "NUM_BATCHES = len(train_tokens)//BATCH_SIZE\n",
    "\n",
    "class LSTM(nn.Module):\n",
    "    def __init__(self, embedding_dim, hidden_dim, num_layers, vocab_size, batch_size):\n",
    "        super(LSTM, self).__init__()\n",
    "        self.hidden_dim = hidden_dim\n",
    "        self.embedding_dim = embedding_dim\n",
    "        self.embeddings = nn.Embedding(vocab_size, embedding_dim)\n",
    "        self.lstm = nn.LSTM(embedding_dim, hidden_dim, num_layers, batch_first = True)\n",
    "        self.hidden2tag = nn.Linear(hidden_dim, vocab_size)\n",
    "        \n",
    "    def forward(self, sentence):\n",
    "        embed = self.embeddings(sentence)\n",
    "        lstm_out, _ =self.lstm(embed)\n",
    "        lstm_out = lstm_out.reshape(lstm_out.size(0)*lstm_out.size(1), lstm_out.size(2))\n",
    "        tag_space = self.hidden2tag(lstm_out)\n",
    "        return tag_space\n",
    "    "
   ]
  },
  {
   "cell_type": "code",
   "execution_count": 12,
   "metadata": {},
   "outputs": [],
   "source": [
    "model = LSTM(EMBEDDING_DIM, HIDDEN_DIM, LAYER_DIM, len(word2index), BATCH_SIZE)\n",
    "\n",
    "if torch.cuda.is_available():\n",
    "    model.cuda()"
   ]
  },
  {
   "cell_type": "code",
   "execution_count": 13,
   "metadata": {},
   "outputs": [],
   "source": [
    "loss_fn = nn.CrossEntropyLoss()\n",
    "optimizer = optim.SGD(model.parameters(), lr = 0.1)"
   ]
  },
  {
   "cell_type": "code",
   "execution_count": 14,
   "metadata": {
    "scrolled": true
   },
   "outputs": [
    {
     "name": "stderr",
     "output_type": "stream",
     "text": [
      "C:\\Users\\Dhruvil\\Anaconda3\\lib\\site-packages\\ipykernel_launcher.py:3: UserWarning: To copy construct from a tensor, it is recommended to use sourceTensor.clone().detach() or sourceTensor.clone().detach().requires_grad_(True), rather than torch.tensor(sourceTensor).\n",
      "  This is separate from the ipykernel package so we can avoid doing imports until\n"
     ]
    },
    {
     "name": "stdout",
     "output_type": "stream",
     "text": [
      "torch.Size([600, 2920])\n"
     ]
    }
   ],
   "source": [
    "with torch.no_grad():\n",
    "    if torch.cuda.is_available():\n",
    "        inputs = Variable(torch.tensor(tokens_indexed[:BATCH_SIZE]).cuda())\n",
    "    tag_scores = model(inputs)\n",
    "    print(tag_scores.shape)"
   ]
  },
  {
   "cell_type": "code",
   "execution_count": 17,
   "metadata": {},
   "outputs": [
    {
     "name": "stdout",
     "output_type": "stream",
     "text": [
      "Loss at 0 epoch = 4.634915351867676\n",
      "Loss at 1 epoch = 4.613344669342041\n",
      "Loss at 2 epoch = 4.183004379272461\n",
      "Loss at 3 epoch = 3.8864636421203613\n",
      "Loss at 4 epoch = 3.48156476020813\n",
      "Loss at 5 epoch = 3.2878541946411133\n",
      "Loss at 6 epoch = 2.7406179904937744\n",
      "Loss at 7 epoch = 2.5375962257385254\n",
      "Loss at 8 epoch = 2.3591787815093994\n",
      "Loss at 9 epoch = 2.0523693561553955\n"
     ]
    }
   ],
   "source": [
    "loss_record = []\n",
    "\n",
    "for j in range(10):\n",
    "    \n",
    "    permutation = torch.randperm(len(tokens_indexed))\n",
    "    \n",
    "    for i in range(0, len(tokens_indexed), BATCH_SIZE):\n",
    "        optimizer.zero_grad()\n",
    "        \n",
    "        indices = permutation[i:i+BATCH_SIZE]\n",
    "        \n",
    "        batch_x, batch_y = torch.LongTensor(tokens_indexed[indices]), torch.LongTensor(labels_indexed[indices])\n",
    "        \n",
    "        if torch.cuda.is_available():\n",
    "            batch_x = Variable(batch_x.cuda())\n",
    "            batch_y = Variable(batch_y.cuda())\n",
    "        \n",
    "        tag_scores = model(batch_x)\n",
    "        \n",
    "#         print(tag_scores.shape)\n",
    "        \n",
    "        loss = loss_fn(tag_scores, batch_y.reshape(-1))\n",
    "        \n",
    "        loss_record.append(loss)\n",
    "        \n",
    "        loss.backward()\n",
    "        \n",
    "        optimizer.step()\n",
    "    print(\"Loss at {0} epoch = {1}\".format(j,loss))"
   ]
  },
  {
   "cell_type": "code",
   "execution_count": 63,
   "metadata": {},
   "outputs": [
    {
     "name": "stderr",
     "output_type": "stream",
     "text": [
      "C:\\Users\\Dhruvil\\Anaconda3\\lib\\site-packages\\ipykernel_launcher.py:5: UserWarning: To copy construct from a tensor, it is recommended to use sourceTensor.clone().detach() or sourceTensor.clone().detach().requires_grad_(True), rather than torch.tensor(sourceTensor).\n",
      "  \"\"\"\n"
     ]
    },
    {
     "name": "stdout",
     "output_type": "stream",
     "text": [
      "tensor([ 30,  39,  40,  30,  39, 760, 761, 762, 763, 663, 167, 764,  38, 765,\n",
      "        178, 173, 766, 403, 126, 427], device='cuda:0')\n",
      "Sentence:\n",
      " strapless with a bustier and a full skirt four musicians played “ once with feeling ” an instrumental song mr\n",
      "Prediction:\n",
      " leahy\n"
     ]
    },
    {
     "name": "stderr",
     "output_type": "stream",
     "text": [
      "C:\\Users\\Dhruvil\\Anaconda3\\lib\\site-packages\\ipykernel_launcher.py:6: UserWarning: Implicit dimension choice for softmax has been deprecated. Change the call to include dim=X as an argument.\n",
      "  \n"
     ]
    }
   ],
   "source": [
    "softmax = nn.Softmax()\n",
    "i=2058\n",
    "test_sample = tokens_indexed[i]\n",
    "# def generate_next_word(tokens_indexed, train_tokens, model = model):\n",
    "inputs = Variable(torch.tensor(test_sample).reshape(-1,test_sample.size(0)).cuda())\n",
    "scores = softmax(model(inputs))\n",
    "_, index = torch.max(scores, 1)\n",
    "print(index)\n",
    "\n",
    "print(\"Sentence:\\n\", ' '.join(train_tokens[i]))\n",
    "print(\"Prediction:\\n\",list(word2index.keys())[index[-1]])"
   ]
  },
  {
   "cell_type": "code",
   "execution_count": 493,
   "metadata": {},
   "outputs": [
    {
     "name": "stderr",
     "output_type": "stream",
     "text": [
      "C:\\Users\\Dhruvil\\Anaconda3\\lib\\site-packages\\ipykernel_launcher.py:3: UserWarning: To copy construct from a tensor, it is recommended to use sourceTensor.clone().detach() or sourceTensor.clone().detach().requires_grad_(True), rather than torch.tensor(sourceTensor).\n",
      "  This is separate from the ipykernel package so we can avoid doing imports until\n",
      "C:\\Users\\Dhruvil\\Anaconda3\\lib\\site-packages\\ipykernel_launcher.py:4: UserWarning: Implicit dimension choice for softmax has been deprecated. Change the call to include dim=X as an argument.\n",
      "  after removing the cwd from sys.path.\n"
     ]
    },
    {
     "name": "stdout",
     "output_type": "stream",
     "text": [
      "tensor([1, 1, 1, 1, 1, 1, 1, 1, 1, 1, 1, 1, 2, 2, 2, 2, 1, 1, 1, 1])\n",
      "Sentence:\n",
      " analysis police department data investigators precinct saddled twice number cases department recommends even bosses called police headquarters answer sharpest crime\n",
      "Prediction:\n",
      " shells\n"
     ]
    }
   ],
   "source": [
    "generate_next_word(tokens_indexed[106], train_tokens[106])"
   ]
  },
  {
   "cell_type": "code",
   "execution_count": null,
   "metadata": {},
   "outputs": [],
   "source": [
    "model."
   ]
  },
  {
   "cell_type": "code",
   "execution_count": null,
   "metadata": {},
   "outputs": [],
   "source": []
  },
  {
   "cell_type": "code",
   "execution_count": 43,
   "metadata": {},
   "outputs": [],
   "source": [
    "import matplotlib.pyplot as plt"
   ]
  },
  {
   "cell_type": "code",
   "execution_count": 18,
   "metadata": {},
   "outputs": [
    {
     "data": {
      "text/plain": [
       "[<matplotlib.lines.Line2D at 0x24c5e509dd8>]"
      ]
     },
     "execution_count": 18,
     "metadata": {},
     "output_type": "execute_result"
    },
    {
     "data": {
      "image/png": "[encoded data removed]",
      "text/plain": [
       "<Figure size 1152x720 with 1 Axes>"
      ]
     },
     "metadata": {
      "needs_background": "light"
     },
     "output_type": "display_data"
    }
   ],
   "source": [
    "plt.figure(figsize = (16,10))\n",
    "plt.plot(loss_record)"
   ]
  },
  {
   "cell_type": "code",
   "execution_count": 65,
   "metadata": {},
   "outputs": [],
   "source": [
    "with torch.no_grad():\n",
    "    with open('sample.txt', 'w') as f:\n",
    "        \n",
    "        # Select one word id randomly\n",
    "        prob = torch.ones(len(word2index))\n",
    "        input = Variable(torch.multinomial(prob, num_samples=1).unsqueeze(1).cuda())\n",
    "\n",
    "        for i in range(1000):\n",
    "            # Forward propagate RNN \n",
    "            output = model(input)\n",
    "\n",
    "            # Sample a word id\n",
    "            prob = output.exp()\n",
    "            word_id = torch.multinomial(prob, num_samples=1).item()\n",
    "\n",
    "            # Fill input with sampled word id for the next time step\n",
    "            input.fill_(word_id)\n",
    "\n",
    "            # File write\n",
    "            word = index2word[word_id]\n",
    "            word = '\\n' if word == '<eos>' else word + ' '\n",
    "            f.write(word)\n",
    "\n",
    "#             if (i+1) % 100 == 0:\n",
    "#                 print('Sampled [{}/{}] words and save to {}'.format(i+1, num_samples, 'sample.txt'))"
   ]
  },
  {
   "cell_type": "code",
   "execution_count": null,
   "metadata": {},
   "outputs": [],
   "source": [
    "input.fill_()"
   ]
  },
  {
   "cell_type": "code",
   "execution_count": 21,
   "metadata": {},
   "outputs": [],
   "source": [
    "import pickle\n",
    "os.chdir('C:/Users/Dhruvil/Desktop/models/')"
   ]
  },
  {
   "cell_type": "code",
   "execution_count": 22,
   "metadata": {},
   "outputs": [
    {
     "ename": "PermissionError",
     "evalue": "[Errno 13] Permission denied: 'Language Model'",
     "output_type": "error",
     "traceback": [
      "\u001b[1;31m---------------------------------------------------------------------------\u001b[0m",
      "\u001b[1;31mPermissionError\u001b[0m                           Traceback (most recent call last)",
      "\u001b[1;32m<ipython-input-22-4655eb542b5e>\u001b[0m in \u001b[0;36m<module>\u001b[1;34m\u001b[0m\n\u001b[1;32m----> 1\u001b[1;33m \u001b[0mpickle\u001b[0m\u001b[1;33m.\u001b[0m\u001b[0mdump\u001b[0m\u001b[1;33m(\u001b[0m\u001b[0mmodel\u001b[0m\u001b[1;33m,\u001b[0m \u001b[0mopen\u001b[0m\u001b[1;33m(\u001b[0m\u001b[1;34m'Language Model'\u001b[0m\u001b[1;33m,\u001b[0m \u001b[1;34m'wb'\u001b[0m\u001b[1;33m)\u001b[0m\u001b[1;33m)\u001b[0m\u001b[1;33m\u001b[0m\u001b[1;33m\u001b[0m\u001b[0m\n\u001b[0m",
      "\u001b[1;31mPermissionError\u001b[0m: [Errno 13] Permission denied: 'Language Model'"
     ]
    }
   ],
   "source": [
    "pickle.dump(model, open('Language Model', 'wb'))"
   ]
  },
  {
   "cell_type": "code",
   "execution_count": null,
   "metadata": {},
   "outputs": [],
   "source": []
  }
 ],
 "metadata": {
  "kernelspec": {
   "display_name": "Python 3",
   "language": "python",
   "name": "python3"
  },
  "language_info": {
   "codemirror_mode": {
    "name": "ipython",
    "version": 3
   },
   "file_extension": ".py",
   "mimetype": "text/x-python",
   "name": "python",
   "nbconvert_exporter": "python",
   "pygments_lexer": "ipython3",
   "version": "3.7.3"
  }
 },
 "nbformat": 4,
 "nbformat_minor": 2
}
